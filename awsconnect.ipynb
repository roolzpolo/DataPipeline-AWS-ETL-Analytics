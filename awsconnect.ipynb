{
 "cells": [
  {
   "cell_type": "markdown",
   "id": "50850fbe-d055-46c4-ac81-14f2f47f337f",
   "metadata": {},
   "source": [
    "# INGESTION DE DATOS TRANSACCIONALES"
   ]
  },
  {
   "cell_type": "code",
   "execution_count": 1,
   "id": "815fc77b-f961-4e59-a032-7ec517dec667",
   "metadata": {},
   "outputs": [],
   "source": [
    "## CONFIGURACION DE AWS RDS"
   ]
  },
  {
   "cell_type": "code",
   "execution_count": 2,
   "id": "70668ec4-4754-401e-949c-2fe2c1ea8909",
   "metadata": {},
   "outputs": [],
   "source": [
    "# Librerias necesarias\n",
    "import boto3\n",
    "import pandas as pd\n",
    "import numpy as np\n",
    "import psycopg2\n",
    "import configparser\n",
    "from sqlalchemy import create_engine\n",
    "import warnings\n",
    "warnings.filterwarnings('ignore')\n"
   ]
  },
  {
   "cell_type": "code",
   "execution_count": 3,
   "id": "9280023d-8ab5-4632-b50b-777e08e720f3",
   "metadata": {},
   "outputs": [
    {
     "data": {
      "text/plain": [
       "['config.cfg']"
      ]
     },
     "execution_count": 3,
     "metadata": {},
     "output_type": "execute_result"
    }
   ],
   "source": [
    "# Documento privado de claves\n",
    "config = configparser.ConfigParser()\n",
    "config.read('config.cfg')"
   ]
  },
  {
   "cell_type": "code",
   "execution_count": 4,
   "id": "74417b6c-d9f8-4336-9f06-5133c941a47d",
   "metadata": {},
   "outputs": [],
   "source": [
    "# Identificacion con AWS\n",
    "aws_rds_conn = boto3.client('rds', aws_access_key_id=config.get('IAM','ACCESS_KEY'),\n",
    "                             aws_secret_access_key=config.get('IAM','SECRET_ACCESS_KEY'),\n",
    "                             region_name='us-east-1')"
   ]
  },
  {
   "cell_type": "code",
   "execution_count": 5,
   "id": "11570cc0-8fd9-41f3-9560-627c093f6047",
   "metadata": {
    "tags": []
   },
   "outputs": [
    {
     "name": "stdout",
     "output_type": "stream",
     "text": [
      "Instancias Disponibles : ['banco-transactional']\n"
     ]
    }
   ],
   "source": [
    "#Verificacion de instancias creadas anteriormente.\n",
    "\n",
    "rds_instances_ids = []\n",
    "aws_response = aws_rds_conn.describe_db_instances() \n",
    "\n",
    "for response in aws_response['DBInstances']:\n",
    "    rds_instances_ids.append(response['DBInstanceIdentifier'])\n",
    "\n",
    "print(f\"Instancias Disponibles : {rds_instances_ids}\")"
   ]
  },
  {
   "cell_type": "code",
   "execution_count": 6,
   "id": "575a3206-be0b-47b6-83ae-8d1ee866c3c6",
   "metadata": {
    "tags": []
   },
   "outputs": [
    {
     "name": "stdout",
     "output_type": "stream",
     "text": [
      "La instancia ya existe\n"
     ]
    }
   ],
   "source": [
    "#creacion de la base de datos\n",
    "\n",
    "try:\n",
    "    response = aws_rds_conn.create_db_instance(\n",
    "        DBInstanceIdentifier = config.get('TRANSACC','DB_INSTANCE_ID'),\n",
    "        DBName = config.get('TRANSACC','DB_NAME'),\n",
    "        DBInstanceClass = 'db.t3.micro',\n",
    "        Engine = 'postgres',\n",
    "        MasterUsername = config.get('TRANSACC','DB_USER'),\n",
    "        MasterUserPassword = config.get('TRANSACC','DB_PASSWORD'),\n",
    "        Port = int(config.get('TRANSACC','DB_PORT')),\n",
    "        PubliclyAccessible = True,\n",
    "        VpcSecurityGroupIds = [config.get('VPC','SECURITY_GROUP')],\n",
    "        AllocatedStorage = 15\n",
    "               )\n",
    "    print(response)\n",
    "except aws_rds_conn.exceptions.DBInstanceAlreadyExistsFault as ex:\n",
    "    print('La instancia ya existe')\n",
    "except Exeption as ex:\n",
    "    print('ERROR', ex)"
   ]
  },
  {
   "cell_type": "markdown",
   "id": "a14a9450-1135-4573-8815-cfca8c6fd3d2",
   "metadata": {},
   "source": [
    "### Obtencion del hostname de las instancias"
   ]
  },
  {
   "cell_type": "code",
   "execution_count": 7,
   "id": "03a3c861-20c5-4bcb-85d1-45afe0181ea0",
   "metadata": {
    "tags": []
   },
   "outputs": [
    {
     "name": "stdout",
     "output_type": "stream",
     "text": [
      "banco-transactional.c1m44mee4c6c.us-east-1.rds.amazonaws.com\n"
     ]
    }
   ],
   "source": [
    "# codigo para obtener el hostname\n",
    "\n",
    "try: \n",
    "    instance = aws_rds_conn.describe_db_instances(DBInstanceIdentifier = config.get('TRANSACC','DB_INSTANCE_ID'))\n",
    "    RDS_HOSTNAME = instance.get('DBInstances')[0].get('Endpoint').get('Address')\n",
    "    print(RDS_HOSTNAME)\n",
    "except Exception as ex:\n",
    "    print('Error', ex)"
   ]
  },
  {
   "cell_type": "markdown",
   "id": "9f1d65c7-128c-435b-ab9d-5a2358dc0968",
   "metadata": {},
   "source": [
    "### Conexion de base de datos desde python"
   ]
  },
  {
   "cell_type": "code",
   "execution_count": 8,
   "id": "3e4899ec-13f8-40c0-8205-3d2da6e657ac",
   "metadata": {
    "tags": []
   },
   "outputs": [],
   "source": [
    "import sql_queries"
   ]
  },
  {
   "cell_type": "code",
   "execution_count": 9,
   "id": "da79bfb1-0d5e-4939-a891-0c30b25fb57c",
   "metadata": {
    "tags": []
   },
   "outputs": [
    {
     "data": {
      "text/plain": [
       "'\\nCREATE TABLE IF NOT EXISTS categoria (\\n    idcategoria SERIAL PRIMARY KEY,\\n    nombre VARCHAR(50) NOT NULL,\\n    descripcion VARCHAR(255),\\n    estado BOOLEAN NOT NULL\\n);\\n\\nCREATE TABLE IF NOT EXISTS rol (\\n    idrol SERIAL PRIMARY KEY,\\n    nombre VARCHAR(30) NOT NULL,\\n    descripcion VARCHAR(255),\\n    estado BOOLEAN NOT NULL\\n);\\n\\nCREATE TABLE IF NOT EXISTS usuario (\\n    idusuario SERIAL PRIMARY KEY,\\n    idrol INTEGER NOT NULL,\\n    nombre VARCHAR(100) NOT NULL,\\n    tipo_documento VARCHAR(20),\\n    num_documento VARCHAR(20),\\n    direccion VARCHAR(70),\\n    telefono VARCHAR(20),\\n    email VARCHAR(50) NOT NULL,\\n    clave VARCHAR(50) NOT NULL,\\n    estado BOOLEAN NOT NULL,\\n    CONSTRAINT fk_usuario_rol FOREIGN KEY (idrol) REFERENCES rol (idrol)\\n);\\n\\nCREATE TABLE IF NOT EXISTS persona (\\n    idpersona SERIAL PRIMARY KEY,\\n    tipo_persona VARCHAR(20) NOT NULL,\\n    nombre VARCHAR(100) NOT NULL,\\n    tipo_documento VARCHAR(20),\\n    num_documento VARCHAR(20),\\n    direccion VARCHAR(70),\\n    telefono VARCHAR(20),\\n    email VARCHAR(50)\\n);\\n\\nCREATE TABLE IF NOT EXISTS venta (\\n    idventa SERIAL PRIMARY KEY,\\n    idcliente INTEGER NOT NULL,\\n    idusuario INTEGER NOT NULL,\\n    tipo_comprobante VARCHAR(20) NOT NULL,\\n    serie_comprobante VARCHAR(7),\\n    num_comprobante VARCHAR(10) NOT NULL,\\n    fecha TIMESTAMP NOT NULL,\\n    impuesto NUMERIC(4, 2) NOT NULL,\\n    total NUMERIC(11, 2) NOT NULL,\\n    estado VARCHAR(20) NOT NULL,\\n    CONSTRAINT fk_venta_cliente FOREIGN KEY (idcliente) REFERENCES persona (idpersona),\\n    CONSTRAINT fk_venta_usuario FOREIGN KEY (idusuario) REFERENCES usuario (idusuario)\\n);\\n\\nCREATE TABLE IF NOT EXISTS articulo (\\n    idarticulo SERIAL PRIMARY KEY,\\n    idcategoria INTEGER NOT NULL,\\n    codigo VARCHAR(50) NOT NULL,\\n    nombre VARCHAR(100) NOT NULL,\\n    precio_venta NUMERIC(11, 2) NOT NULL,\\n    stock INTEGER NOT NULL,\\n    descripcion VARCHAR(255),\\n    imagen VARCHAR(20),\\n    estado BOOLEAN NOT NULL,\\n    CONSTRAINT fk_articulo_categoria FOREIGN KEY (idcategoria) REFERENCES categoria (idcategoria)\\n);\\n\\nCREATE TABLE IF NOT EXISTS detalle_venta (\\n    iddetalle_venta SERIAL PRIMARY KEY,\\n    idventa INTEGER NOT NULL,\\n    idarticulo INTEGER NOT NULL,\\n    cantidad INTEGER NOT NULL,\\n    precio NUMERIC(11, 2) NOT NULL,\\n    descuento NUMERIC(11, 2) NOT NULL,\\n    CONSTRAINT fk_detalle_venta_venta FOREIGN KEY (idventa) REFERENCES venta (idventa),\\n    CONSTRAINT fk_detalle_venta_articulo FOREIGN KEY (idarticulo) REFERENCES articulo (idarticulo)\\n);\\n\\nCREATE TABLE IF NOT EXISTS ingreso (\\n    idingreso SERIAL PRIMARY KEY,\\n    idproveedor INTEGER NOT NULL,\\n    idusuario INTEGER NOT NULL,\\n    tipo_comprobante VARCHAR(20) NOT NULL,\\n    serie_comprobante VARCHAR(7),\\n    num_comprobante VARCHAR(10) NOT NULL,\\n    fecha TIMESTAMP NOT NULL,\\n    impuesto NUMERIC(4, 2) NOT NULL,\\n    total NUMERIC(11, 2) NOT NULL,\\n    estado VARCHAR(20) NOT NULL,\\n    CONSTRAINT fk_ingreso_proveedor FOREIGN KEY (idproveedor) REFERENCES persona (idpersona),\\n    CONSTRAINT fk_ingreso_usuario FOREIGN KEY (idusuario) REFERENCES usuario (idusuario)\\n);\\n\\nCREATE TABLE IF NOT EXISTS detalle_ingreso (\\n    iddetalle_ingreso SERIAL PRIMARY KEY,\\n    idingreso INTEGER NOT NULL,\\n    idarticulo INTEGER NOT NULL,\\n    cantidad INTEGER NOT NULL,\\n    precio NUMERIC(11, 2) NOT NULL,\\n    CONSTRAINT fk_detalle_ingreso_ingreso FOREIGN KEY (idingreso) REFERENCES ingreso (idingreso),\\n    CONSTRAINT fk_detalle_ingreso_articulo FOREIGN KEY (idarticulo) REFERENCES articulo (idarticulo)\\n);\\n\\n'"
      ]
     },
     "execution_count": 9,
     "metadata": {},
     "output_type": "execute_result"
    }
   ],
   "source": [
    "sql_queries.DDL_QUERY"
   ]
  },
  {
   "cell_type": "code",
   "execution_count": 10,
   "id": "0369c798-5f73-43a2-8e12-a650b6fe87fb",
   "metadata": {
    "tags": []
   },
   "outputs": [
    {
     "name": "stdout",
     "output_type": "stream",
     "text": [
      "Base de datos creada exitosamente\n"
     ]
    }
   ],
   "source": [
    "#creacion de database de datos\n",
    "try:\n",
    "    db_pg_conn = psycopg2.connect(\n",
    "                    dbname = config.get('TRANSACC','DB_NAME'),\n",
    "                    user = config.get('TRANSACC','DB_USER'),\n",
    "                    password = config.get('TRANSACC','DB_PASSWORD'),\n",
    "                    host = RDS_HOSTNAME,\n",
    "                    port = config.get('TRANSACC','DB_PORT')\n",
    "    )\n",
    "    cursor = db_pg_conn.cursor()\n",
    "    cursor.execute(sql_queries.DDL_QUERY)\n",
    "    db_pg_conn.commit()\n",
    "    print('Base de datos creada exitosamente')\n",
    "\n",
    "except Exception as ex:\n",
    "    print('ERROR', ex)"
   ]
  },
  {
   "cell_type": "markdown",
   "id": "f203ffea-7560-426e-8df3-c010995cf596",
   "metadata": {},
   "source": [
    "### Insertar table en base de datos"
   ]
  },
  {
   "cell_type": "code",
   "execution_count": 11,
   "id": "a1faeac3-540d-4565-a00b-daa3034c1590",
   "metadata": {
    "tags": []
   },
   "outputs": [],
   "source": [
    "data_tipo_transacciones = [\n",
    "     {'id_tipo_transac': 85095, 'tipo_transaccion': 'Depósito'}, \n",
    "     {'id_tipo_transac': 85098, 'tipo_transaccion': 'Retiro'},\n",
    "     {'id_tipo_transac': 85194, 'tipo_transaccion': 'Transferencia'},\n",
    "     {'id_tipo_transac': 85133, 'tipo_transaccion': 'Pago Prestamo'}\n",
    "]"
   ]
  },
  {
   "cell_type": "code",
   "execution_count": 12,
   "id": "5c11bfb0-d5c2-41a9-acff-9d65d16e5f0d",
   "metadata": {
    "tags": []
   },
   "outputs": [],
   "source": [
    "def insertData2SQL(data_dict, table_name, driver):\n",
    "    df_data = pd.DataFrame.from_records(data_dict)\n",
    "    try:\n",
    "        response = df_data.to_sql(table_name, driver, index=False, if_exists='append')\n",
    "        print(f\"Se han insertado {response} nuevos registros\")\n",
    "    except Exception as ex:\n",
    "        print(ex)"
   ]
  },
  {
   "cell_type": "code",
   "execution_count": 13,
   "id": "a7bb63a6-49d9-46cc-9629-97ffa5a2cb19",
   "metadata": {
    "tags": []
   },
   "outputs": [],
   "source": [
    "driver = f\"\"\"postgresql://{config.get('TRANSACC', 'DB_USER')}:{config.get('TRANSACC', 'DB_PASSWORD')}@{RDS_HOSTNAME}:{config.get('TRANSACC', 'DB_PORT')}/{config.get('TRANSACC', 'DB_NAME')}\"\"\"\n",
    "driver\n",
    "\n",
    "engine = create_engine(driver)"
   ]
  },
  {
   "cell_type": "code",
   "execution_count": 14,
   "id": "f1f6848b-5273-434f-b2b2-5284ece2c6ad",
   "metadata": {
    "tags": []
   },
   "outputs": [
    {
     "name": "stdout",
     "output_type": "stream",
     "text": [
      "Using URI string without sqlalchemy installed.\n"
     ]
    }
   ],
   "source": [
    "#insertamos data en tabla tipo_transaccione \n",
    "insertData2SQL(data_tipo_transacciones, 'tipo_transacciones', driver)"
   ]
  },
  {
   "cell_type": "code",
   "execution_count": null,
   "id": "5844427c-0b46-4780-bb2e-b5d0f4f65371",
   "metadata": {},
   "outputs": [],
   "source": []
  }
 ],
 "metadata": {
  "kernelspec": {
   "display_name": "Python 3 (ipykernel)",
   "language": "python",
   "name": "python3"
  },
  "language_info": {
   "codemirror_mode": {
    "name": "ipython",
    "version": 3
   },
   "file_extension": ".py",
   "mimetype": "text/x-python",
   "name": "python",
   "nbconvert_exporter": "python",
   "pygments_lexer": "ipython3",
   "version": "3.11.8"
  }
 },
 "nbformat": 4,
 "nbformat_minor": 5
}
