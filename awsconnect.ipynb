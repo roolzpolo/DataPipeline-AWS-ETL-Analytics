{
 "cells": [
  {
   "cell_type": "markdown",
   "id": "50850fbe-d055-46c4-ac81-14f2f47f337f",
   "metadata": {},
   "source": [
    "# INGESTION DE DATOS TRANSACCIONALES"
   ]
  },
  {
   "cell_type": "code",
   "execution_count": 1,
   "id": "815fc77b-f961-4e59-a032-7ec517dec667",
   "metadata": {},
   "outputs": [],
   "source": [
    "## CONFIGURACION DE AWS RDS"
   ]
  },
  {
   "cell_type": "code",
   "execution_count": 29,
   "id": "70668ec4-4754-401e-949c-2fe2c1ea8909",
   "metadata": {},
   "outputs": [
    {
     "ename": "ImportError",
     "evalue": "cannot import name 'session' from 'sqlalchemy' (/Users/roolzpolo/anaconda3/lib/python3.11/site-packages/sqlalchemy/__init__.py)",
     "output_type": "error",
     "traceback": [
      "\u001b[0;31m---------------------------------------------------------------------------\u001b[0m",
      "\u001b[0;31mImportError\u001b[0m                               Traceback (most recent call last)",
      "Cell \u001b[0;32mIn[29], line 10\u001b[0m\n\u001b[1;32m      8\u001b[0m \u001b[38;5;28;01mfrom\u001b[39;00m \u001b[38;5;21;01msqlalchemy\u001b[39;00m \u001b[38;5;28;01mimport\u001b[39;00m create_engine\n\u001b[1;32m      9\u001b[0m \u001b[38;5;28;01mfrom\u001b[39;00m \u001b[38;5;21;01msqlalchemy\u001b[39;00m \u001b[38;5;28;01mimport\u001b[39;00m text\n\u001b[0;32m---> 10\u001b[0m \u001b[38;5;28;01mfrom\u001b[39;00m \u001b[38;5;21;01msqlalchemy\u001b[39;00m \u001b[38;5;28;01mimport\u001b[39;00m session\n\u001b[1;32m     11\u001b[0m \u001b[38;5;28;01mimport\u001b[39;00m \u001b[38;5;21;01mwarnings\u001b[39;00m\n\u001b[1;32m     12\u001b[0m \u001b[38;5;28;01mimport\u001b[39;00m \u001b[38;5;21;01mrandom\u001b[39;00m\n",
      "\u001b[0;31mImportError\u001b[0m: cannot import name 'session' from 'sqlalchemy' (/Users/roolzpolo/anaconda3/lib/python3.11/site-packages/sqlalchemy/__init__.py)"
     ]
    }
   ],
   "source": [
    "# Librerias necesarias\n",
    "import boto3\n",
    "import pandas as pd\n",
    "import numpy as np\n",
    "import psycopg2\n",
    "import configparser\n",
    "from faker import Faker\n",
    "from sqlalchemy import create_engine\n",
    "from sqlalchemy import text\n",
    "\n",
    "import warnings\n",
    "import random\n",
    "warnings.filterwarnings('ignore')\n"
   ]
  },
  {
   "cell_type": "code",
   "execution_count": 3,
   "id": "9280023d-8ab5-4632-b50b-777e08e720f3",
   "metadata": {},
   "outputs": [
    {
     "data": {
      "text/plain": [
       "['config.cfg']"
      ]
     },
     "execution_count": 3,
     "metadata": {},
     "output_type": "execute_result"
    }
   ],
   "source": [
    "# Documento privado de claves\n",
    "config = configparser.ConfigParser()\n",
    "config.read('config.cfg')"
   ]
  },
  {
   "cell_type": "code",
   "execution_count": 4,
   "id": "74417b6c-d9f8-4336-9f06-5133c941a47d",
   "metadata": {},
   "outputs": [],
   "source": [
    "# Identificacion con AWS\n",
    "aws_rds_conn = boto3.client('rds', aws_access_key_id=config.get('IAM','ACCESS_KEY'),\n",
    "                             aws_secret_access_key=config.get('IAM','SECRET_ACCESS_KEY'),\n",
    "                             region_name='us-east-1')"
   ]
  },
  {
   "cell_type": "code",
   "execution_count": 5,
   "id": "11570cc0-8fd9-41f3-9560-627c093f6047",
   "metadata": {
    "tags": []
   },
   "outputs": [
    {
     "name": "stdout",
     "output_type": "stream",
     "text": [
      "Instancias Disponibles : ['banco-transactional']\n"
     ]
    }
   ],
   "source": [
    "#Verificacion de instancias creadas anteriormente.\n",
    "\n",
    "rds_instances_ids = []\n",
    "aws_response = aws_rds_conn.describe_db_instances() \n",
    "\n",
    "for response in aws_response['DBInstances']:\n",
    "    rds_instances_ids.append(response['DBInstanceIdentifier'])\n",
    "\n",
    "print(f\"Instancias Disponibles : {rds_instances_ids}\")"
   ]
  },
  {
   "cell_type": "code",
   "execution_count": 6,
   "id": "575a3206-be0b-47b6-83ae-8d1ee866c3c6",
   "metadata": {
    "tags": []
   },
   "outputs": [
    {
     "name": "stdout",
     "output_type": "stream",
     "text": [
      "La instancia ya existe\n"
     ]
    }
   ],
   "source": [
    "#creacion de la base de datos\n",
    "\n",
    "try:\n",
    "    response = aws_rds_conn.create_db_instance(\n",
    "        DBInstanceIdentifier = config.get('TRANSACC','DB_INSTANCE_ID'),\n",
    "        DBName = config.get('TRANSACC','DB_NAME'),\n",
    "        DBInstanceClass = 'db.t3.micro',\n",
    "        Engine = 'postgres',\n",
    "        MasterUsername = config.get('TRANSACC','DB_USER'),\n",
    "        MasterUserPassword = config.get('TRANSACC','DB_PASSWORD'),\n",
    "        Port = int(config.get('TRANSACC','DB_PORT')),\n",
    "        PubliclyAccessible = True,\n",
    "        VpcSecurityGroupIds = [config.get('VPC','SECURITY_GROUP')],\n",
    "        AllocatedStorage = 15\n",
    "               )\n",
    "    print(response)\n",
    "except aws_rds_conn.exceptions.DBInstanceAlreadyExistsFault as ex:\n",
    "    print('La instancia ya existe')\n",
    "except Exeption as ex:\n",
    "    print('ERROR', ex)"
   ]
  },
  {
   "cell_type": "markdown",
   "id": "a14a9450-1135-4573-8815-cfca8c6fd3d2",
   "metadata": {},
   "source": [
    "### Obtencion del hostname de las instancias"
   ]
  },
  {
   "cell_type": "code",
   "execution_count": 7,
   "id": "03a3c861-20c5-4bcb-85d1-45afe0181ea0",
   "metadata": {
    "tags": []
   },
   "outputs": [
    {
     "name": "stdout",
     "output_type": "stream",
     "text": [
      "banco-transactional.c1m44mee4c6c.us-east-1.rds.amazonaws.com\n"
     ]
    }
   ],
   "source": [
    "# codigo para obtener el hostname\n",
    "\n",
    "try: \n",
    "    instance = aws_rds_conn.describe_db_instances(DBInstanceIdentifier = config.get('TRANSACC','DB_INSTANCE_ID'))\n",
    "    RDS_HOSTNAME = instance.get('DBInstances')[0].get('Endpoint').get('Address')\n",
    "    print(RDS_HOSTNAME)\n",
    "except Exception as ex:\n",
    "    print('Error', ex)"
   ]
  },
  {
   "cell_type": "markdown",
   "id": "9f1d65c7-128c-435b-ab9d-5a2358dc0968",
   "metadata": {},
   "source": [
    "### Conexion de base de datos desde python"
   ]
  },
  {
   "cell_type": "code",
   "execution_count": 8,
   "id": "3e4899ec-13f8-40c0-8205-3d2da6e657ac",
   "metadata": {
    "tags": []
   },
   "outputs": [],
   "source": [
    "import sql_queries"
   ]
  },
  {
   "cell_type": "code",
   "execution_count": 9,
   "id": "da79bfb1-0d5e-4939-a891-0c30b25fb57c",
   "metadata": {
    "tags": []
   },
   "outputs": [
    {
     "data": {
      "text/plain": [
       "'\\nCREATE TABLE IF NOT EXISTS categoria (\\n    idcategoria SERIAL PRIMARY KEY,\\n    nombre VARCHAR(50) NOT NULL,\\n    descripcion VARCHAR(255),\\n    estado BOOLEAN NOT NULL\\n);\\n\\nCREATE TABLE IF NOT EXISTS rol (\\n    idrol SERIAL PRIMARY KEY,\\n    nombre VARCHAR(30) NOT NULL,\\n    descripcion VARCHAR(255),\\n    estado BOOLEAN NOT NULL\\n);\\n\\nCREATE TABLE IF NOT EXISTS usuario (\\n    idusuario SERIAL PRIMARY KEY,\\n    idrol INTEGER NOT NULL,\\n    nombre VARCHAR(100) NOT NULL,\\n    tipo_documento VARCHAR(20),\\n    num_documento VARCHAR(20),\\n    direccion VARCHAR(70),\\n    telefono VARCHAR(20),\\n    email VARCHAR(50) NOT NULL,\\n    clave VARCHAR(50) NOT NULL,\\n    estado BOOLEAN NOT NULL,\\n    CONSTRAINT fk_usuario_rol FOREIGN KEY (idrol) REFERENCES rol (idrol)\\n);\\n\\nCREATE TABLE IF NOT EXISTS persona (\\n    idpersona SERIAL PRIMARY KEY,\\n    tipo_persona VARCHAR(20) NOT NULL,\\n    nombre VARCHAR(100) NOT NULL,\\n    tipo_documento VARCHAR(20),\\n    num_documento VARCHAR(20),\\n    direccion VARCHAR(70),\\n    telefono VARCHAR(20),\\n    email VARCHAR(50)\\n);\\n\\nCREATE TABLE IF NOT EXISTS venta (\\n    idventa SERIAL PRIMARY KEY,\\n    idcliente INTEGER NOT NULL,\\n    idusuario INTEGER NOT NULL,\\n    tipo_comprobante VARCHAR(20) NOT NULL,\\n    serie_comprobante VARCHAR(7),\\n    num_comprobante VARCHAR(10) NOT NULL,\\n    fecha TIMESTAMP NOT NULL,\\n    impuesto NUMERIC(4, 2) NOT NULL,\\n    total NUMERIC(11, 2) NOT NULL,\\n    estado VARCHAR(20) NOT NULL,\\n    CONSTRAINT fk_venta_cliente FOREIGN KEY (idcliente) REFERENCES persona (idpersona),\\n    CONSTRAINT fk_venta_usuario FOREIGN KEY (idusuario) REFERENCES usuario (idusuario)\\n);\\n\\nCREATE TABLE IF NOT EXISTS articulo (\\n    idarticulo SERIAL PRIMARY KEY,\\n    idcategoria INTEGER NOT NULL,\\n    codigo VARCHAR(50) NOT NULL,\\n    nombre VARCHAR(100) NOT NULL,\\n    precio_venta NUMERIC(11, 2) NOT NULL,\\n    stock INTEGER NOT NULL,\\n    descripcion VARCHAR(255),\\n    imagen VARCHAR(20),\\n    estado BOOLEAN NOT NULL,\\n    CONSTRAINT fk_articulo_categoria FOREIGN KEY (idcategoria) REFERENCES categoria (idcategoria)\\n);\\n\\nCREATE TABLE IF NOT EXISTS detalle_venta (\\n    iddetalle_venta SERIAL PRIMARY KEY,\\n    idventa INTEGER NOT NULL,\\n    idarticulo INTEGER NOT NULL,\\n    cantidad INTEGER NOT NULL,\\n    precio NUMERIC(11, 2) NOT NULL,\\n    descuento NUMERIC(11, 2) NOT NULL,\\n    CONSTRAINT fk_detalle_venta_venta FOREIGN KEY (idventa) REFERENCES venta (idventa),\\n    CONSTRAINT fk_detalle_venta_articulo FOREIGN KEY (idarticulo) REFERENCES articulo (idarticulo)\\n);\\n\\nCREATE TABLE IF NOT EXISTS ingreso (\\n    idingreso SERIAL PRIMARY KEY,\\n    idproveedor INTEGER NOT NULL,\\n    idusuario INTEGER NOT NULL,\\n    tipo_comprobante VARCHAR(20) NOT NULL,\\n    serie_comprobante VARCHAR(7),\\n    num_comprobante VARCHAR(10) NOT NULL,\\n    fecha TIMESTAMP NOT NULL,\\n    impuesto NUMERIC(4, 2) NOT NULL,\\n    total NUMERIC(11, 2) NOT NULL,\\n    estado VARCHAR(20) NOT NULL,\\n    CONSTRAINT fk_ingreso_proveedor FOREIGN KEY (idproveedor) REFERENCES persona (idpersona),\\n    CONSTRAINT fk_ingreso_usuario FOREIGN KEY (idusuario) REFERENCES usuario (idusuario)\\n);\\n\\nCREATE TABLE IF NOT EXISTS detalle_ingreso (\\n    iddetalle_ingreso SERIAL PRIMARY KEY,\\n    idingreso INTEGER NOT NULL,\\n    idarticulo INTEGER NOT NULL,\\n    cantidad INTEGER NOT NULL,\\n    precio NUMERIC(11, 2) NOT NULL,\\n    CONSTRAINT fk_detalle_ingreso_ingreso FOREIGN KEY (idingreso) REFERENCES ingreso (idingreso),\\n    CONSTRAINT fk_detalle_ingreso_articulo FOREIGN KEY (idarticulo) REFERENCES articulo (idarticulo)\\n);\\n\\n'"
      ]
     },
     "execution_count": 9,
     "metadata": {},
     "output_type": "execute_result"
    }
   ],
   "source": [
    "sql_queries.DDL_QUERY"
   ]
  },
  {
   "cell_type": "code",
   "execution_count": 10,
   "id": "0369c798-5f73-43a2-8e12-a650b6fe87fb",
   "metadata": {
    "tags": []
   },
   "outputs": [
    {
     "name": "stdout",
     "output_type": "stream",
     "text": [
      "Base de datos creada exitosamente\n"
     ]
    }
   ],
   "source": [
    "#creacion de database de datos\n",
    "try:\n",
    "    db_pg_conn = psycopg2.connect(\n",
    "                    dbname = config.get('TRANSACC','DB_NAME'),\n",
    "                    user = config.get('TRANSACC','DB_USER'),\n",
    "                    password = config.get('TRANSACC','DB_PASSWORD'),\n",
    "                    host = RDS_HOSTNAME,\n",
    "                    port = config.get('TRANSACC','DB_PORT')\n",
    "    )\n",
    "    cursor = db_pg_conn.cursor()\n",
    "    cursor.execute(sql_queries.DDL_QUERY)\n",
    "    db_pg_conn.commit()\n",
    "    print('Base de datos creada exitosamente')\n",
    "\n",
    "except Exception as ex:\n",
    "    print('ERROR', ex)"
   ]
  },
  {
   "cell_type": "markdown",
   "id": "f203ffea-7560-426e-8df3-c010995cf596",
   "metadata": {},
   "source": [
    "## Generacion de datos con Faker"
   ]
  },
  {
   "cell_type": "code",
   "execution_count": 13,
   "id": "a1faeac3-540d-4565-a00b-daa3034c1590",
   "metadata": {
    "tags": []
   },
   "outputs": [],
   "source": [
    "# Carga de librerias nuevamente\n",
    "from faker import Faker\n",
    "import pandas as pd\n",
    "from sqlalchemy import create_engine\n",
    "from configparser import ConfigParser"
   ]
  },
  {
   "cell_type": "code",
   "execution_count": 16,
   "id": "a7bb63a6-49d9-46cc-9629-97ffa5a2cb19",
   "metadata": {
    "tags": []
   },
   "outputs": [],
   "source": [
    "# # Conectar a la base de datos PostgreSQL usando SQLAlchemy\n",
    "\n",
    "driver = f\"\"\"postgresql://{config.get('TRANSACC', 'DB_USER')}:{config.get('TRANSACC', 'DB_PASSWORD')}@{RDS_HOSTNAME}:{config.get('TRANSACC', 'DB_PORT')}/{config.get('TRANSACC', 'DB_NAME')}\"\"\"\n",
    "engine = create_engine(driver)\n",
    "# insertData2SQL(data_tipo_transacciones, 'tipo_transacciones', driver)"
   ]
  },
  {
   "cell_type": "code",
   "execution_count": 15,
   "id": "f1f6848b-5273-434f-b2b2-5284ece2c6ad",
   "metadata": {
    "tags": []
   },
   "outputs": [
    {
     "ename": "NameError",
     "evalue": "name 'insertData2SQL' is not defined",
     "output_type": "error",
     "traceback": [
      "\u001b[0;31m---------------------------------------------------------------------------\u001b[0m",
      "\u001b[0;31mNameError\u001b[0m                                 Traceback (most recent call last)",
      "Cell \u001b[0;32mIn[15], line 2\u001b[0m\n\u001b[1;32m      1\u001b[0m \u001b[38;5;66;03m#insertamos data en tabla tipo_transaccione \u001b[39;00m\n\u001b[0;32m----> 2\u001b[0m insertData2SQL(data_tipo_transacciones, \u001b[38;5;124m'\u001b[39m\u001b[38;5;124mtipo_transacciones\u001b[39m\u001b[38;5;124m'\u001b[39m, driver)\n",
      "\u001b[0;31mNameError\u001b[0m: name 'insertData2SQL' is not defined"
     ]
    }
   ],
   "source": []
  },
  {
   "cell_type": "code",
   "execution_count": 17,
   "id": "cfb7d1aa-cdf5-4498-af6e-5e946fa663e3",
   "metadata": {
    "tags": []
   },
   "outputs": [
    {
     "name": "stdout",
     "output_type": "stream",
     "text": [
      "Se han insertado 1000 nuevos registros en la tabla categoria.\n"
     ]
    }
   ],
   "source": [
    "#ingreso de data para 'CATEGORIA'\n",
    "# Inicializar Faker\n",
    "fake = Faker()\n",
    "\n",
    "# Función para generar datos para la tabla 'categoria'\n",
    "def generate_categoria_data(n):\n",
    "    data = []\n",
    "    for _ in range(n):\n",
    "        data.append({\n",
    "            \"nombre\": fake.word(),\n",
    "            \"descripcion\": fake.text(max_nb_chars=255),\n",
    "            \"estado\": fake.boolean()\n",
    "        })\n",
    "    return data\n",
    "\n",
    "# Insertar datos a la base de datos\n",
    "def insertData2SQL(data, table_name, engine):\n",
    "    df_data = pd.DataFrame(data)\n",
    "    try:\n",
    "        response = df_data.to_sql(table_name, engine, index=False, if_exists='append')\n",
    "        print(f\"Se han insertado {len(df_data)} nuevos registros en la tabla {table_name}.\")\n",
    "    except Exception as ex:\n",
    "        print(f\"Error al insertar datos: {ex}\")\n",
    "\n",
    "# Generar 1000 registros de datos para 'categoria'\n",
    "data_categoria = generate_categoria_data(1000)\n",
    "\n",
    "# Crear motor SQLAlchemy\n",
    "engine = create_engine(driver)\n",
    "\n",
    "# Insertar datos generados en la tabla 'categoria'\n",
    "insertData2SQL(data_categoria, 'categoria', driver)"
   ]
  },
  {
   "cell_type": "code",
   "execution_count": 18,
   "id": "fe61bef7-a823-4520-9cf4-84cec48296a5",
   "metadata": {
    "tags": []
   },
   "outputs": [
    {
     "name": "stdout",
     "output_type": "stream",
     "text": [
      "Se han insertado 1000 nuevos registros en la tabla rol.\n"
     ]
    }
   ],
   "source": [
    "# INGRESO DE DATA PARA ROL\n",
    "# Inicializar Faker\n",
    "fake = Faker()\n",
    "\n",
    "# Función para generar datos para la tabla 'rol'\n",
    "def generate_rol_data(n):\n",
    "    data = []\n",
    "    for _ in range(n):\n",
    "        data.append({\n",
    "            \"nombre\": fake.job()[:30],  # Genera nombres de roles basados en tipos de trabajos\n",
    "            \"descripcion\": fake.text(max_nb_chars=255),  # Descripción falsa\n",
    "            \"estado\": fake.boolean()  # Estado aleatorio\n",
    "        })\n",
    "    return data\n",
    "\n",
    "# Insertar datos a la base de datos\n",
    "def insertData2SQL(data, table_name, engine):\n",
    "    df_data = pd.DataFrame(data)\n",
    "    try:\n",
    "        response = df_data.to_sql(table_name, engine, index=False, if_exists='append')\n",
    "        print(f\"Se han insertado {len(df_data)} nuevos registros en la tabla {table_name}.\")\n",
    "    except Exception as ex:\n",
    "        print(f\"Error al insertar datos: {ex}\")\n",
    "\n",
    "# Generar 1000 registros de datos para 'categoria'\n",
    "data_rol = generate_rol_data(1000)\n",
    "\n",
    "# Crear motor SQLAlchemy\n",
    "engine = create_engine(driver)\n",
    "\n",
    "# Insertar datos generados en la tabla 'categoria'\n",
    "insertData2SQL(data_rol, 'rol', driver)"
   ]
  },
  {
   "cell_type": "code",
   "execution_count": 30,
   "id": "868a9199-d9da-4e16-ad5a-bc2668c0c266",
   "metadata": {
    "tags": []
   },
   "outputs": [
    {
     "name": "stdout",
     "output_type": "stream",
     "text": [
      "Se han insertado 1000 nuevos registros en la tabla usuario.\n"
     ]
    }
   ],
   "source": [
    "#INGRESO DE DATA PARA USUARIO\n",
    "# Inicializar Faker\n",
    "fake = Faker()\n",
    "\n",
    "# Crear el motor SQLAlchemy\n",
    "engine = create_engine(driver)\n",
    "Session = sessionmaker(bind=engine)\n",
    "session = Session()\n",
    "\n",
    "# Función para obtener los roles existentes\n",
    "def get_existing_roles(session):\n",
    "    results = session.execute(text(\"SELECT idrol FROM rol\"))\n",
    "    existing_roles = [row[0] for row in results]\n",
    "    return existing_roles\n",
    "\n",
    "# Obtener los roles existentes\n",
    "existing_roles = get_existing_roles(session)\n",
    "\n",
    "# Función para generar datos para la tabla 'usuario'\n",
    "def generate_usuario_data(n, existing_roles):\n",
    "    data = []\n",
    "    for _ in range(n):\n",
    "        data.append({\n",
    "            \"idrol\": fake.random.choice(existing_roles),\n",
    "            \"nombre\": fake.name()[:100],\n",
    "            \"tipo_documento\": fake.random.choice(['DNI', 'PAS', 'RUC', 'CE'])[:20],\n",
    "            \"num_documento\": fake.bothify(text='########')[:20],\n",
    "            \"direccion\": fake.address()[:70],\n",
    "            \"telefono\": fake.phone_number()[:20],\n",
    "            \"email\": fake.email()[:50],\n",
    "            \"clave\": fake.password(length=10, special_chars=True, digits=True, upper_case=True, lower_case=True)[:50],\n",
    "            \"estado\": fake.boolean()\n",
    "        })\n",
    "    return data\n",
    "\n",
    "# Función para insertar datos en la base de datos\n",
    "def insertData2SQL(data, table_name, engine):\n",
    "    df_data = pd.DataFrame(data)\n",
    "    try:\n",
    "        response = df_data.to_sql(table_name, engine, index=False, if_exists='append')\n",
    "        print(f\"Se han insertado {len(df_data)} nuevos registros en la tabla {table_name}.\")\n",
    "    except Exception as ex:\n",
    "        print(f\"Error al insertar datos: {ex}\")\n",
    "\n",
    "# Generar 1000 registros de datos para 'usuario'\n",
    "data_usuario = generate_usuario_data(1000, existing_roles)\n",
    "\n",
    "# Insertar datos generados en la tabla 'usuario'\n",
    "insertData2SQL(data_usuario, 'usuario', engine)\n",
    "\n",
    "# Cerrar la sesión\n",
    "session.close()"
   ]
  },
  {
   "cell_type": "code",
   "execution_count": 31,
   "id": "9ce58afd-86aa-49bf-b0a5-eef000fe1556",
   "metadata": {
    "tags": []
   },
   "outputs": [
    {
     "name": "stdout",
     "output_type": "stream",
     "text": [
      "Error al insertar datos: (psycopg2.errors.StringDataRightTruncation) value too long for type character varying(20)\n",
      "\n",
      "[SQL: INSERT INTO persona (tipo_persona, nombre, tipo_documento, num_documento, direccion, telefono, email) VALUES (%(tipo_persona__0)s, %(nombre__0)s, %(tipo_documento__0)s, %(num_documento__0)s, %(direccion__0)s, %(telefono__0)s, %(email__0)s), (%(tipo_p ... 144987 characters truncated ... ipo_documento__999)s, %(num_documento__999)s, %(direccion__999)s, %(telefono__999)s, %(email__999)s)]\n",
      "[parameters: {'email__0': 'matthew17@example.org', 'direccion__0': '9530 Crawford Crossing', 'num_documento__0': 'T6659534', 'nombre__0': 'Chelsea Watson', 'tipo_persona__0': 'Natural', 'tipo_documento__0': 'CE', 'telefono__0': '624-257-9136', 'email__1': 'sharirichmond@example.com', 'direccion__1': '238 Lauren Track Apt. 610', 'num_documento__1': 'R1230865', 'nombre__1': 'Kylie Wolfe', 'tipo_persona__1': 'Natural', 'tipo_documento__1': 'RUC', 'telefono__1': '5957857066', 'email__2': 'michael58@example.org', 'direccion__2': '7432 Johnson Canyon', 'num_documento__2': 'C1824721', 'nombre__2': 'Erik Holt', 'tipo_persona__2': 'Jurídica', 'tipo_documento__2': 'PAS', 'telefono__2': '001-203-585-4541', 'email__3': 'caitlynbraun@example.net', 'direccion__3': '74897 Roberts Lakes Apt. 968', 'num_documento__3': 'Q5914950', 'nombre__3': 'Keith Tucker', 'tipo_persona__3': 'Natural', 'tipo_documento__3': 'CE', 'telefono__3': '724.246.9876x7334', 'email__4': 'jason66@example.com', 'direccion__4': '08489 Melissa Ridges', 'num_documento__4': 'Y3959003', 'nombre__4': 'Anna Lewis', 'tipo_persona__4': 'Natural', 'tipo_documento__4': 'CE', 'telefono__4': '908-484-2149', 'email__5': 'fernando22@example.net', 'direccion__5': '803 Brooks Islands', 'num_documento__5': 'J1497147', 'nombre__5': 'Emily Galloway', 'tipo_persona__5': 'Jurídica', 'tipo_documento__5': 'CE', 'telefono__5': '(988)962-8852', 'email__6': 'bradfordheidi@example.org', 'direccion__6': '57452 Amber Rapid', 'num_documento__6': 'B2799960', 'nombre__6': 'Adam Goodman', 'tipo_persona__6': 'Natural', 'tipo_documento__6': 'CE', 'telefono__6': '861-598-2537x791', 'email__7': 'john18@example.org' ... 6900 parameters truncated ... 'telefono__992': '001-984-503-2728x9946', 'email__993': 'sanderson@example.net', 'direccion__993': '1314 Walsh Corners', 'num_documento__993': 'H6817540', 'nombre__993': 'Gregory Higgins', 'tipo_persona__993': 'Jurídica', 'tipo_documento__993': 'CE', 'telefono__993': '001-778-516-7370x455', 'email__994': 'fsimpson@example.net', 'direccion__994': '654 Rhonda Point', 'num_documento__994': 'M1079370', 'nombre__994': 'Anthony Jones', 'tipo_persona__994': 'Jurídica', 'tipo_documento__994': 'CE', 'telefono__994': '3598416960', 'email__995': 'eflores@example.org', 'direccion__995': '7498 Hood Station Suite 794', 'num_documento__995': 'D0779830', 'nombre__995': 'Alexandra Landry', 'tipo_persona__995': 'Jurídica', 'tipo_documento__995': 'PAS', 'telefono__995': '001-474-458-9339x4228', 'email__996': 'jennifer32@example.com', 'direccion__996': '056 Shannon Greens', 'num_documento__996': 'G3125705', 'nombre__996': 'Brandy Rodriguez', 'tipo_persona__996': 'Natural', 'tipo_documento__996': 'CE', 'telefono__996': '417-712-6104', 'email__997': 'xtaylor@example.com', 'direccion__997': '8876 Eric Rue', 'num_documento__997': 'B8298854', 'nombre__997': 'William Wood', 'tipo_persona__997': 'Natural', 'tipo_documento__997': 'CE', 'telefono__997': '+1-424-251-6492x170', 'email__998': 'sherryward@example.net', 'direccion__998': '338 Robinson Haven', 'num_documento__998': 'S3380620', 'nombre__998': 'Chad Burns', 'tipo_persona__998': 'Jurídica', 'tipo_documento__998': 'RUC', 'telefono__998': '(237)757-5969x3460', 'email__999': 'slopez@example.net', 'direccion__999': '2771 Alexander Well', 'num_documento__999': 'M4121116', 'nombre__999': 'Holly Berry', 'tipo_persona__999': 'Jurídica', 'tipo_documento__999': 'CE', 'telefono__999': '787-556-3185x6190'}]\n",
      "(Background on this error at: https://sqlalche.me/e/20/9h9h)\n"
     ]
    }
   ],
   "source": [
    "# INGRESO DE DATA PARA PERSONA\n",
    "# Inicializar Faker\n",
    "fake = Faker()\n",
    "\n",
    "# Función para generar datos para la tabla 'persona'\n",
    "def generate_persona_data(n):\n",
    "    data = []\n",
    "    for _ in range(n):\n",
    "        data.append({\n",
    "            \"tipo_persona\": fake.random_element(elements=('Natural', 'Jurídica')),\n",
    "            \"nombre\": fake.name(),\n",
    "            \"tipo_documento\": fake.random_element(elements=('DNI', 'PAS', 'RUC', 'CE')),\n",
    "            \"num_documento\": fake.bothify(text='?#######', letters='ABCDEFGHJKLMNPQRSTUVWXYZ'),\n",
    "            \"direccion\": fake.street_address(),\n",
    "            \"telefono\": fake.phone_number(),\n",
    "            \"email\": fake.email()\n",
    "        })\n",
    "    return data\n",
    "\n",
    "# Insertar datos a la base de datos\n",
    "def insertData2SQL(data, table_name, engine):\n",
    "    df_data = pd.DataFrame(data)\n",
    "    try:\n",
    "        response = df_data.to_sql(table_name, engine, index=False, if_exists='append')\n",
    "        print(f\"Se han insertado {len(df_data)} nuevos registros en la tabla {table_name}.\")\n",
    "    except Exception as ex:\n",
    "        print(f\"Error al insertar datos: {ex}\")\n",
    "\n",
    "# Generar 1000 registros de datos para 'persona'\n",
    "data_persona = generate_persona_data(1000)\n",
    "\n",
    "# Crear motor SQLAlchemy\n",
    "engine = create_engine(driver)\n",
    "\n",
    "# Insertar datos generados en la tabla 'persona'\n",
    "insertData2SQL(data_persona, 'persona', driver)"
   ]
  },
  {
   "cell_type": "code",
   "execution_count": null,
   "id": "7efe9584-8894-440f-a452-4e73bcde238e",
   "metadata": {},
   "outputs": [],
   "source": []
  }
 ],
 "metadata": {
  "kernelspec": {
   "display_name": "Python 3 (ipykernel)",
   "language": "python",
   "name": "python3"
  },
  "language_info": {
   "codemirror_mode": {
    "name": "ipython",
    "version": 3
   },
   "file_extension": ".py",
   "mimetype": "text/x-python",
   "name": "python",
   "nbconvert_exporter": "python",
   "pygments_lexer": "ipython3",
   "version": "3.11.8"
  }
 },
 "nbformat": 4,
 "nbformat_minor": 5
}
